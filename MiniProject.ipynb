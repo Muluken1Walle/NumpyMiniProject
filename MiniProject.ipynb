{
  "nbformat": 4,
  "nbformat_minor": 0,
  "metadata": {
    "colab": {
      "name": "MiniProject.ipynb",
      "provenance": [],
      "authorship_tag": "ABX9TyPMW9EPHfwcVuDUuokw2aTM",
      "include_colab_link": true
    },
    "kernelspec": {
      "name": "python3",
      "display_name": "Python 3"
    },
    "language_info": {
      "name": "python"
    }
  },
  "cells": [
    {
      "cell_type": "markdown",
      "metadata": {
        "id": "view-in-github",
        "colab_type": "text"
      },
      "source": [
        "<a href=\"https://colab.research.google.com/github/Muluken1Walle/NumpyMiniProject/blob/main/MiniProject.ipynb\" target=\"_parent\"><img src=\"https://colab.research.google.com/assets/colab-badge.svg\" alt=\"Open In Colab\"/></a>"
      ]
    },
    {
      "cell_type": "code",
      "execution_count": 1,
      "metadata": {
        "id": "f7R1VF7EpjzD"
      },
      "outputs": [],
      "source": [
        "data_file='makeSenseOfCensus.csv'\n"
      ]
    },
    {
      "cell_type": "code",
      "source": [
        "import numpy as np"
      ],
      "metadata": {
        "id": "5TctOZ8QvpRV"
      },
      "execution_count": 3,
      "outputs": []
    },
    {
      "cell_type": "code",
      "source": [
        "data= np.genfromtxt(data_file, delimiter=',', skip_header=1)\n",
        "print(\"\\ndata:\\n\\n\",data)"
      ],
      "metadata": {
        "colab": {
          "base_uri": "https://localhost:8080/"
        },
        "id": "TcKvMzaiuVjw",
        "outputId": "8d838238-d050-4769-96cd-cf5229c3773e"
      },
      "execution_count": 6,
      "outputs": [
        {
          "output_type": "stream",
          "name": "stdout",
          "text": [
            "\n",
            "data:\n",
            "\n",
            " [[39. 13.  4. ...  0. 40.  0.]\n",
            " [50. 13.  4. ...  0. 13.  0.]\n",
            " [38.  9.  4. ...  0. 40.  0.]\n",
            " ...\n",
            " [48. 13.  4. ...  0. 58.  1.]\n",
            " [40. 10.  4. ...  0. 40.  0.]\n",
            " [39. 13.  4. ...  0. 50.  1.]]\n"
          ]
        }
      ]
    },
    {
      "cell_type": "code",
      "source": [
        "print(\"\\ntype of data\\n\\n\", type(data))"
      ],
      "metadata": {
        "colab": {
          "base_uri": "https://localhost:8080/"
        },
        "id": "diP6THnRv4ua",
        "outputId": "419f3d2b-cc9c-4380-8ef8-b6ebfa2d45f6"
      },
      "execution_count": 9,
      "outputs": [
        {
          "output_type": "stream",
          "name": "stdout",
          "text": [
            "\n",
            "type of data\n",
            "\n",
            " <class 'numpy.ndarray'>\n"
          ]
        }
      ]
    },
    {
      "cell_type": "code",
      "source": [
        "new_record= [[50,9,4,1,0,0,40,0]]\n",
        "print(new_record)"
      ],
      "metadata": {
        "colab": {
          "base_uri": "https://localhost:8080/"
        },
        "id": "qcN5HUBAwP67",
        "outputId": "8258c46f-9e90-4d44-d3dc-c1a1de45f3be"
      },
      "execution_count": 13,
      "outputs": [
        {
          "output_type": "stream",
          "name": "stdout",
          "text": [
            "[[50, 9, 4, 1, 0, 0, 40, 0]]\n"
          ]
        }
      ]
    },
    {
      "cell_type": "code",
      "source": [
        "data1=np.concatenate((data,new_record), axis=0)\n",
        "print(data1)"
      ],
      "metadata": {
        "colab": {
          "base_uri": "https://localhost:8080/"
        },
        "id": "NezbUTZUw_bE",
        "outputId": "55a17763-c5ef-4e3f-b147-2e56c6075929"
      },
      "execution_count": 14,
      "outputs": [
        {
          "output_type": "stream",
          "name": "stdout",
          "text": [
            "[[39. 13.  4. ...  0. 40.  0.]\n",
            " [50. 13.  4. ...  0. 13.  0.]\n",
            " [38.  9.  4. ...  0. 40.  0.]\n",
            " ...\n",
            " [40. 10.  4. ...  0. 40.  0.]\n",
            " [39. 13.  4. ...  0. 50.  1.]\n",
            " [50.  9.  4. ...  0. 40.  0.]]\n"
          ]
        }
      ]
    },
    {
      "cell_type": "code",
      "source": [
        "age = data1[:,0]\n",
        "print(age)"
      ],
      "metadata": {
        "colab": {
          "base_uri": "https://localhost:8080/"
        },
        "id": "VSogTl_syAy8",
        "outputId": "89b39e2c-3b48-4f5f-cc4f-5dfdb1aa247a"
      },
      "execution_count": 17,
      "outputs": [
        {
          "output_type": "stream",
          "name": "stdout",
          "text": [
            "[39. 50. 38. ... 40. 39. 50.]\n"
          ]
        }
      ]
    },
    {
      "cell_type": "code",
      "source": [
        "max_age= age.max()\n",
        "max_age"
      ],
      "metadata": {
        "colab": {
          "base_uri": "https://localhost:8080/"
        },
        "id": "cW0MMcoayNMs",
        "outputId": "4192a0ce-3ac6-4108-f322-f0f311f88e4e"
      },
      "execution_count": 20,
      "outputs": [
        {
          "output_type": "execute_result",
          "data": {
            "text/plain": [
              "90.0"
            ]
          },
          "metadata": {},
          "execution_count": 20
        }
      ]
    },
    {
      "cell_type": "code",
      "source": [
        "min_age = age.min()\n",
        "min_age"
      ],
      "metadata": {
        "colab": {
          "base_uri": "https://localhost:8080/"
        },
        "id": "SnqyV95SzDJW",
        "outputId": "76b98bfd-99b3-415f-d489-96dde2a8299b"
      },
      "execution_count": 22,
      "outputs": [
        {
          "output_type": "execute_result",
          "data": {
            "text/plain": [
              "17.0"
            ]
          },
          "metadata": {},
          "execution_count": 22
        }
      ]
    },
    {
      "cell_type": "code",
      "source": [
        "age_mean= age.mean()\n",
        "age_mean"
      ],
      "metadata": {
        "colab": {
          "base_uri": "https://localhost:8080/"
        },
        "id": "Mpx3UWIqzTwb",
        "outputId": "e1b5c720-132f-4d1c-abe5-87a5fbbd8a80"
      },
      "execution_count": 24,
      "outputs": [
        {
          "output_type": "execute_result",
          "data": {
            "text/plain": [
              "38.06293706293706"
            ]
          },
          "metadata": {},
          "execution_count": 24
        }
      ]
    },
    {
      "cell_type": "code",
      "source": [
        "age_std= age.std()\n",
        "age_std"
      ],
      "metadata": {
        "colab": {
          "base_uri": "https://localhost:8080/"
        },
        "id": "1WuE14HqzkdW",
        "outputId": "3b7ba2e5-622e-40d4-9e25-e49bb1c9aadf"
      },
      "execution_count": 25,
      "outputs": [
        {
          "output_type": "execute_result",
          "data": {
            "text/plain": [
              "13.341478176165857"
            ]
          },
          "metadata": {},
          "execution_count": 25
        }
      ]
    },
    {
      "cell_type": "code",
      "source": [
        "race = data1[:,2]\n",
        "print(race)"
      ],
      "metadata": {
        "colab": {
          "base_uri": "https://localhost:8080/"
        },
        "id": "Z4Hfbkdz0Vgp",
        "outputId": "591a70cd-a482-44c5-c2e5-7565ec17e019"
      },
      "execution_count": 27,
      "outputs": [
        {
          "output_type": "stream",
          "name": "stdout",
          "text": [
            "[4. 4. 4. ... 4. 4. 4.]\n"
          ]
        }
      ]
    },
    {
      "cell_type": "code",
      "source": [
        "race_0 = race[race == 0]\n",
        "race_1= race[race==1]\n",
        "race_2 = race[race==2]\n",
        "race_3 = race[race==3]\n",
        "race_4= race[race==4]\n",
        "print(race_4)"
      ],
      "metadata": {
        "colab": {
          "base_uri": "https://localhost:8080/"
        },
        "id": "BfAeTmYe0IXk",
        "outputId": "9237c229-8958-4034-bfce-8b99be6bad76"
      },
      "execution_count": 29,
      "outputs": [
        {
          "output_type": "stream",
          "name": "stdout",
          "text": [
            "[4. 4. 4. 4. 4. 4. 4. 4. 4. 4. 4. 4. 4. 4. 4. 4. 4. 4. 4. 4. 4. 4. 4. 4.\n",
            " 4. 4. 4. 4. 4. 4. 4. 4. 4. 4. 4. 4. 4. 4. 4. 4. 4. 4. 4. 4. 4. 4. 4. 4.\n",
            " 4. 4. 4. 4. 4. 4. 4. 4. 4. 4. 4. 4. 4. 4. 4. 4. 4. 4. 4. 4. 4. 4. 4. 4.\n",
            " 4. 4. 4. 4. 4. 4. 4. 4. 4. 4. 4. 4. 4. 4. 4. 4. 4. 4. 4. 4. 4. 4. 4. 4.\n",
            " 4. 4. 4. 4. 4. 4. 4. 4. 4. 4. 4. 4. 4. 4. 4. 4. 4. 4. 4. 4. 4. 4. 4. 4.\n",
            " 4. 4. 4. 4. 4. 4. 4. 4. 4. 4. 4. 4. 4. 4. 4. 4. 4. 4. 4. 4. 4. 4. 4. 4.\n",
            " 4. 4. 4. 4. 4. 4. 4. 4. 4. 4. 4. 4. 4. 4. 4. 4. 4. 4. 4. 4. 4. 4. 4. 4.\n",
            " 4. 4. 4. 4. 4. 4. 4. 4. 4. 4. 4. 4. 4. 4. 4. 4. 4. 4. 4. 4. 4. 4. 4. 4.\n",
            " 4. 4. 4. 4. 4. 4. 4. 4. 4. 4. 4. 4. 4. 4. 4. 4. 4. 4. 4. 4. 4. 4. 4. 4.\n",
            " 4. 4. 4. 4. 4. 4. 4. 4. 4. 4. 4. 4. 4. 4. 4. 4. 4. 4. 4. 4. 4. 4. 4. 4.\n",
            " 4. 4. 4. 4. 4. 4. 4. 4. 4. 4. 4. 4. 4. 4. 4. 4. 4. 4. 4. 4. 4. 4. 4. 4.\n",
            " 4. 4. 4. 4. 4. 4. 4. 4. 4. 4. 4. 4. 4. 4. 4. 4. 4. 4. 4. 4. 4. 4. 4. 4.\n",
            " 4. 4. 4. 4. 4. 4. 4. 4. 4. 4. 4. 4. 4. 4. 4. 4. 4. 4. 4. 4. 4. 4. 4. 4.\n",
            " 4. 4. 4. 4. 4. 4. 4. 4. 4. 4. 4. 4. 4. 4. 4. 4. 4. 4. 4. 4. 4. 4. 4. 4.\n",
            " 4. 4. 4. 4. 4. 4. 4. 4. 4. 4. 4. 4. 4. 4. 4. 4. 4. 4. 4. 4. 4. 4. 4. 4.\n",
            " 4. 4. 4. 4. 4. 4. 4. 4. 4. 4. 4. 4. 4. 4. 4. 4. 4. 4. 4. 4. 4. 4. 4. 4.\n",
            " 4. 4. 4. 4. 4. 4. 4. 4. 4. 4. 4. 4. 4. 4. 4. 4. 4. 4. 4. 4. 4. 4. 4. 4.\n",
            " 4. 4. 4. 4. 4. 4. 4. 4. 4. 4. 4. 4. 4. 4. 4. 4. 4. 4. 4. 4. 4. 4. 4. 4.\n",
            " 4. 4. 4. 4. 4. 4. 4. 4. 4. 4. 4. 4. 4. 4. 4. 4. 4. 4. 4. 4. 4. 4. 4. 4.\n",
            " 4. 4. 4. 4. 4. 4. 4. 4. 4. 4. 4. 4. 4. 4. 4. 4. 4. 4. 4. 4. 4. 4. 4. 4.\n",
            " 4. 4. 4. 4. 4. 4. 4. 4. 4. 4. 4. 4. 4. 4. 4. 4. 4. 4. 4. 4. 4. 4. 4. 4.\n",
            " 4. 4. 4. 4. 4. 4. 4. 4. 4. 4. 4. 4. 4. 4. 4. 4. 4. 4. 4. 4. 4. 4. 4. 4.\n",
            " 4. 4. 4. 4. 4. 4. 4. 4. 4. 4. 4. 4. 4. 4. 4. 4. 4. 4. 4. 4. 4. 4. 4. 4.\n",
            " 4. 4. 4. 4. 4. 4. 4. 4. 4. 4. 4. 4. 4. 4. 4. 4. 4. 4. 4. 4. 4. 4. 4. 4.\n",
            " 4. 4. 4. 4. 4. 4. 4. 4. 4. 4. 4. 4. 4. 4. 4. 4. 4. 4. 4. 4. 4. 4. 4. 4.\n",
            " 4. 4. 4. 4. 4. 4. 4. 4. 4. 4. 4. 4. 4. 4. 4. 4. 4. 4. 4. 4. 4. 4. 4. 4.\n",
            " 4. 4. 4. 4. 4. 4. 4. 4. 4. 4. 4. 4. 4. 4. 4. 4. 4. 4. 4. 4. 4. 4. 4. 4.\n",
            " 4. 4. 4. 4. 4. 4. 4. 4. 4. 4. 4. 4. 4. 4. 4. 4. 4. 4. 4. 4. 4. 4. 4. 4.\n",
            " 4. 4. 4. 4. 4. 4. 4. 4. 4. 4. 4. 4. 4. 4. 4. 4. 4. 4. 4. 4. 4. 4. 4. 4.\n",
            " 4. 4. 4. 4. 4. 4. 4. 4. 4. 4. 4. 4. 4. 4. 4. 4. 4. 4. 4. 4. 4. 4. 4. 4.\n",
            " 4. 4. 4. 4. 4. 4. 4. 4. 4. 4. 4. 4. 4. 4. 4. 4. 4. 4. 4. 4. 4. 4. 4. 4.\n",
            " 4. 4. 4. 4. 4. 4. 4. 4. 4. 4. 4. 4. 4. 4. 4. 4. 4. 4. 4. 4. 4. 4. 4. 4.\n",
            " 4. 4. 4. 4. 4. 4. 4. 4. 4. 4. 4. 4. 4. 4. 4. 4. 4. 4. 4. 4. 4. 4. 4. 4.\n",
            " 4. 4. 4. 4. 4. 4. 4. 4. 4. 4. 4. 4. 4. 4. 4. 4. 4. 4. 4. 4. 4. 4. 4. 4.\n",
            " 4. 4. 4. 4. 4. 4. 4. 4. 4. 4. 4. 4. 4. 4. 4. 4. 4. 4. 4. 4. 4. 4. 4. 4.\n",
            " 4. 4. 4. 4. 4. 4. 4. 4.]\n"
          ]
        }
      ]
    },
    {
      "cell_type": "code",
      "source": [
        "len_0 = len(race_0)\n",
        "len_1= len(race_1)\n",
        "len_2 =len(race_2)\n",
        "len_3 = len(race_3)\n",
        "len_4 = len(race_4)\n",
        "print(len_0,len_1,len_2,len_3,len_4)"
      ],
      "metadata": {
        "colab": {
          "base_uri": "https://localhost:8080/"
        },
        "id": "CaHvdckR13bg",
        "outputId": "71f15efe-e62d-478e-946c-24415a147d8a"
      },
      "execution_count": 31,
      "outputs": [
        {
          "output_type": "stream",
          "name": "stdout",
          "text": [
            "10 27 110 6 848\n"
          ]
        }
      ]
    },
    {
      "cell_type": "code",
      "source": [
        "list1 = [len_0,len_1,len_2,len_3,len_4]\n",
        "len_arr = np.array(list1)\n",
        "print('Minimum number of citizens in a race is',len_arr.min())"
      ],
      "metadata": {
        "colab": {
          "base_uri": "https://localhost:8080/"
        },
        "id": "5HT-V8UF39Xz",
        "outputId": "79a26235-0a04-47e4-b9a3-32b2799e6845"
      },
      "execution_count": 33,
      "outputs": [
        {
          "output_type": "stream",
          "name": "stdout",
          "text": [
            "Minimum number of citizens in a race is 6\n"
          ]
        }
      ]
    },
    {
      "cell_type": "code",
      "source": [
        "minority_race = 3\n",
        "print('The belong to minority is Race',minority_race)"
      ],
      "metadata": {
        "colab": {
          "base_uri": "https://localhost:8080/"
        },
        "id": "dtE5zX152lcR",
        "outputId": "e0c26c18-b81d-41c6-84a4-659c204b0ec1"
      },
      "execution_count": 34,
      "outputs": [
        {
          "output_type": "stream",
          "name": "stdout",
          "text": [
            "The belong to minority is Race 3\n"
          ]
        }
      ]
    },
    {
      "cell_type": "code",
      "source": [
        "senior_citizens = age[age>60]\n",
        "print(senior_citizens)\n"
      ],
      "metadata": {
        "colab": {
          "base_uri": "https://localhost:8080/"
        },
        "id": "WKZ7O6RW3Iwv",
        "outputId": "24de5952-2e5a-4fb5-d5e5-c49bd9a602ba"
      },
      "execution_count": 35,
      "outputs": [
        {
          "output_type": "stream",
          "name": "stdout",
          "text": [
            "[79. 67. 76. 61. 70. 64. 71. 68. 66. 64. 90. 66. 75. 65. 64. 61. 65. 77.\n",
            " 62. 76. 63. 66. 67. 65. 62. 63. 80. 67. 63. 72. 62. 74. 67. 72. 69. 65.\n",
            " 65. 71. 70. 66. 65. 61. 61. 68. 64. 64. 62. 73. 72. 63. 62. 61. 71. 63.\n",
            " 63. 67. 81. 64. 67. 78. 63.]\n"
          ]
        }
      ]
    },
    {
      "cell_type": "code",
      "source": [
        "working_hours = data1[:,6]\n",
        "working_hours_sum =  np.sum(working_hours[age>60])\n",
        "print('Toatl working hour of senior citizens',working_hours_sum)"
      ],
      "metadata": {
        "id": "eXu6J5uW6FzK",
        "outputId": "727181b1-e365-476b-d4e7-af52c2c6a95d",
        "colab": {
          "base_uri": "https://localhost:8080/"
        }
      },
      "execution_count": 36,
      "outputs": [
        {
          "output_type": "stream",
          "name": "stdout",
          "text": [
            "Toatl working hour of senior citizens 1917.0\n"
          ]
        }
      ]
    },
    {
      "cell_type": "code",
      "source": [
        "senior_citizens_len = len(senior_citizens)\n",
        "print(senior_citizens_len)"
      ],
      "metadata": {
        "id": "r15vEbS07H7P",
        "outputId": "b570702e-7848-420a-94ca-2ec7d7d44e49",
        "colab": {
          "base_uri": "https://localhost:8080/"
        }
      },
      "execution_count": 37,
      "outputs": [
        {
          "output_type": "stream",
          "name": "stdout",
          "text": [
            "61\n"
          ]
        }
      ]
    },
    {
      "cell_type": "code",
      "source": [
        "avg_working_hours= working_hours_sum/senior_citizens_len\n",
        "print(avg_working_hours)"
      ],
      "metadata": {
        "id": "Voahpjry70Uj",
        "outputId": "7ddd1b58-d94d-48c0-813e-83527aff8571",
        "colab": {
          "base_uri": "https://localhost:8080/"
        }
      },
      "execution_count": 38,
      "outputs": [
        {
          "output_type": "stream",
          "name": "stdout",
          "text": [
            "31.42622950819672\n"
          ]
        }
      ]
    },
    {
      "cell_type": "code",
      "source": [
        "if avg_working_hours <=25:\n",
        "  print('the gov policy is followd ')\n",
        "else:\n",
        "  print('the gov is not followd')\n"
      ],
      "metadata": {
        "id": "T-4fL-sQ8jEK",
        "outputId": "e55b9fe6-e0d9-43e6-d519-6e99dbe4f246",
        "colab": {
          "base_uri": "https://localhost:8080/"
        }
      },
      "execution_count": 41,
      "outputs": [
        {
          "output_type": "stream",
          "name": "stdout",
          "text": [
            "the gov is not followd\n"
          ]
        }
      ]
    },
    {
      "cell_type": "code",
      "source": [
        "print(avg_working_hours)"
      ],
      "metadata": {
        "id": "NtFjlqS19d65",
        "outputId": "68411416-7fc1-47d8-ebd1-87df68e7f513",
        "colab": {
          "base_uri": "https://localhost:8080/"
        }
      },
      "execution_count": 42,
      "outputs": [
        {
          "output_type": "stream",
          "name": "stdout",
          "text": [
            "31.42622950819672\n"
          ]
        }
      ]
    },
    {
      "cell_type": "code",
      "source": [
        "education= data1[:,1]\n",
        "high = education[education>10]\n",
        "low = education[education<10]\n",
        "print(high)"
      ],
      "metadata": {
        "id": "P70vRE4990OZ",
        "outputId": "a884f88a-e2eb-4e0d-9d6a-42aea7a173c7",
        "colab": {
          "base_uri": "https://localhost:8080/"
        }
      },
      "execution_count": 43,
      "outputs": [
        {
          "output_type": "stream",
          "name": "stdout",
          "text": [
            "[13. 13. 13. 14. 14. 13. 13. 13. 12. 11. 14. 16. 13. 12. 13. 12. 13. 13.\n",
            " 13. 14. 11. 11. 15. 13. 11. 13. 16. 13. 13. 12. 13. 14. 16. 11. 13. 16.\n",
            " 12. 14. 13. 14. 13. 15. 11. 13. 13. 13. 13. 12. 12. 13. 12. 14. 11. 11.\n",
            " 13. 13. 13. 14. 14. 12. 14. 11. 13. 13. 13. 13. 13. 14. 16. 13. 13. 14.\n",
            " 14. 14. 13. 13. 13. 12. 13. 13. 11. 15. 13. 14. 13. 12. 12. 15. 13. 11.\n",
            " 13. 13. 14. 14. 13. 12. 13. 14. 15. 13. 13. 13. 13. 13. 14. 13. 12. 12.\n",
            " 12. 13. 14. 13. 14. 11. 13. 11. 14. 12. 11. 13. 11. 12. 13. 13. 13. 13.\n",
            " 11. 14. 13. 13. 12. 13. 11. 14. 13. 12. 13. 13. 13. 13. 11. 14. 16. 13.\n",
            " 14. 14. 13. 12. 14. 13. 12. 11. 12. 13. 13. 14. 13. 11. 13. 12. 13. 13.\n",
            " 13. 12. 13. 13. 13. 11. 11. 11. 13. 13. 13. 14. 12. 15. 11. 13. 16. 11.\n",
            " 13. 13. 13. 14. 14. 11. 16. 13. 12. 13. 13. 13. 13. 13. 15. 13. 13. 12.\n",
            " 14. 14. 13. 13. 13. 15. 13. 11. 13. 13. 13. 13. 16. 16. 13. 16. 14. 14.\n",
            " 12. 13. 11. 13. 14. 13. 12. 14. 14. 13. 13. 13. 16. 13. 13. 13. 11. 13.\n",
            " 13. 13. 13. 13. 11. 11. 13. 13. 14. 11. 13. 13. 13. 13. 11. 13. 16. 13.\n",
            " 13. 11. 11. 14. 13. 11. 11. 13. 11. 13. 14. 13. 12. 14. 13. 13. 11. 11.\n",
            " 14. 11. 13. 13. 13. 13. 13. 13. 14. 11. 13. 16. 13. 13. 13. 13. 14. 13.\n",
            " 13. 11. 13. 13. 13. 11. 13. 11. 13. 15. 14. 13. 13. 12. 13. 13. 14. 14.\n",
            " 14. 15. 13. 12. 13. 14. 13. 12. 13. 13. 11. 13. 13. 14. 12. 11. 13. 11.\n",
            " 14. 13. 13.]\n"
          ]
        }
      ]
    },
    {
      "cell_type": "code",
      "source": [
        "print(low)"
      ],
      "metadata": {
        "id": "K0-7_uv8-_5M",
        "outputId": "b5e8d383-e826-4c47-a82d-12002d2b91cd",
        "colab": {
          "base_uri": "https://localhost:8080/"
        }
      },
      "execution_count": 44,
      "outputs": [
        {
          "output_type": "stream",
          "name": "stdout",
          "text": [
            "[9. 7. 5. 9. 4. 9. 9. 7. 9. 5. 7. 9. 9. 9. 9. 7. 9. 5. 9. 9. 9. 9. 9. 3.\n",
            " 9. 9. 4. 9. 9. 9. 9. 6. 7. 4. 9. 9. 9. 9. 9. 9. 5. 9. 9. 9. 9. 6. 7. 9.\n",
            " 9. 9. 9. 5. 9. 9. 9. 9. 9. 9. 9. 9. 7. 9. 9. 9. 9. 9. 2. 9. 9. 7. 9. 9.\n",
            " 9. 9. 9. 9. 4. 9. 3. 9. 9. 9. 7. 9. 9. 7. 9. 9. 9. 4. 6. 2. 9. 9. 1. 9.\n",
            " 6. 9. 9. 7. 9. 9. 9. 9. 9. 9. 9. 9. 6. 9. 9. 9. 4. 9. 7. 7. 9. 9. 9. 5.\n",
            " 9. 9. 9. 4. 9. 9. 9. 9. 9. 9. 9. 3. 9. 9. 9. 7. 9. 9. 9. 6. 9. 3. 9. 9.\n",
            " 9. 9. 9. 7. 9. 7. 9. 7. 9. 5. 6. 9. 9. 9. 7. 9. 9. 9. 9. 9. 3. 9. 9. 9.\n",
            " 9. 9. 9. 4. 9. 9. 9. 8. 2. 7. 7. 9. 7. 9. 6. 9. 9. 9. 9. 7. 9. 9. 9. 5.\n",
            " 9. 9. 9. 7. 9. 9. 9. 9. 9. 9. 2. 9. 9. 9. 9. 5. 6. 9. 9. 8. 2. 9. 9. 9.\n",
            " 9. 9. 3. 9. 9. 9. 9. 9. 3. 9. 9. 9. 7. 9. 9. 8. 2. 9. 9. 9. 6. 9. 9. 7.\n",
            " 9. 7. 9. 9. 9. 7. 9. 9. 4. 9. 9. 9. 7. 8. 9. 9. 9. 7. 6. 9. 9. 4. 9. 4.\n",
            " 5. 9. 9. 9. 6. 9. 9. 9. 9. 9. 7. 5. 5. 9. 9. 9. 6. 9. 9. 3. 9. 9. 9. 9.\n",
            " 9. 9. 9. 5. 9. 4. 9. 8. 9. 7. 5. 7. 7. 9. 9. 8. 9. 9. 9. 9. 7. 9. 4. 9.\n",
            " 9. 8. 9. 7. 9. 9. 9. 9. 9. 9. 9. 9. 7. 9. 9. 8. 9. 7. 6. 9. 9. 9. 9. 9.\n",
            " 9. 9. 9. 6. 9. 3. 9. 9. 9. 8. 9. 9. 9. 9. 9. 9. 9. 7. 9. 7. 9. 9. 9. 6.\n",
            " 9. 9. 9. 9. 9. 9. 9. 9. 7. 9. 7. 9. 9. 9. 7. 9. 9. 9. 9. 9. 9. 9. 7. 9.\n",
            " 7. 9. 6. 7. 3. 9. 9. 9. 5. 9. 9. 9. 4. 5. 9. 9. 9. 9. 9. 6. 9. 9. 9. 3.\n",
            " 9. 9. 9. 2. 9. 1. 9. 7. 9. 9. 9. 9. 9. 9. 9. 4. 9. 6. 6. 9. 6. 9. 9. 9.\n",
            " 9. 9. 9. 9. 9. 9. 9. 9. 9. 9. 9. 9. 9. 9. 9. 9. 9.]\n"
          ]
        }
      ]
    },
    {
      "cell_type": "code",
      "source": [
        "income = data1[:,7]\n",
        "avg_pay_high = np.mean(income[education>10])\n",
        "avg_pay_low = np.mean(income[education<=10])\n",
        "print(\"Average pay for high\",avg_pay_high,\"\\nAverage pay for low\", avg_pay_low)"
      ],
      "metadata": {
        "id": "t1cNP7Tz_CBg",
        "outputId": "d3c1df3f-fd95-42f2-aed7-fbb1d63681ce",
        "colab": {
          "base_uri": "https://localhost:8080/"
        }
      },
      "execution_count": 48,
      "outputs": [
        {
          "output_type": "stream",
          "name": "stdout",
          "text": [
            "Average pay for high 0.42813455657492355 \n",
            "Average pay for low 0.13649851632047477\n"
          ]
        }
      ]
    },
    {
      "cell_type": "code",
      "source": [
        ""
      ],
      "metadata": {
        "id": "bYmQ0usNAKPD"
      },
      "execution_count": null,
      "outputs": []
    }
  ]
}